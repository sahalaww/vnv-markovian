{
 "cells": [
  {
   "cell_type": "code",
   "execution_count": 213,
   "id": "b9da7b90",
   "metadata": {},
   "outputs": [],
   "source": [
    "import numpy as np"
   ]
  },
  {
   "cell_type": "markdown",
   "id": "04650d4c",
   "metadata": {},
   "source": [
    "## Input"
   ]
  },
  {
   "cell_type": "code",
   "execution_count": 214,
   "id": "7d5c6095",
   "metadata": {},
   "outputs": [],
   "source": [
    "ymax = 3.5\n",
    "t = 0.5\n",
    "delta = 0.5\n",
    "S = np.array([1, 2, 3, 4])\n",
    "R = np.array([[0, 1, 0, 2],\n",
    "              [1, 0, 4, 5],\n",
    "              [1, 2, 0, 1],\n",
    "              [9, 2, 3, 0]])\n",
    "pi = np.array([0.5, 0,4, 0.1, 0])\n",
    "r = np.array([2,2,4,5])\n",
    "epsilon = 10e-4"
   ]
  },
  {
   "cell_type": "code",
   "execution_count": 215,
   "id": "3e8d68ae",
   "metadata": {},
   "outputs": [
    {
     "data": {
      "text/plain": [
       "0.001"
      ]
     },
     "execution_count": 215,
     "metadata": {},
     "output_type": "execute_result"
    }
   ],
   "source": [
    "epsilon"
   ]
  },
  {
   "cell_type": "code",
   "execution_count": 216,
   "id": "65f124d5",
   "metadata": {},
   "outputs": [],
   "source": [
    "def create_Q_matrix(R):\n",
    "    length = len(R)\n",
    "    Q = np.zeros((length, length))\n",
    "    \n",
    "    for i in range(0, length):\n",
    "        R[i][i] = -1 * np.sum(R[i][:])\n",
    "        \n",
    "    return R"
   ]
  },
  {
   "cell_type": "code",
   "execution_count": 217,
   "id": "a8096b62",
   "metadata": {},
   "outputs": [],
   "source": [
    "Q = create_Q_matrix(R)"
   ]
  },
  {
   "cell_type": "code",
   "execution_count": 218,
   "id": "13c055de",
   "metadata": {},
   "outputs": [
    {
     "data": {
      "text/plain": [
       "array([[ -3,   1,   0,   2],\n",
       "       [  1, -10,   4,   5],\n",
       "       [  1,   2,  -4,   1],\n",
       "       [  9,   2,   3, -14]])"
      ]
     },
     "execution_count": 218,
     "metadata": {},
     "output_type": "execute_result"
    }
   ],
   "source": [
    "Q"
   ]
  },
  {
   "cell_type": "code",
   "execution_count": 219,
   "id": "57abf08c",
   "metadata": {},
   "outputs": [],
   "source": [
    "def create_D_matrix(r):\n",
    "    D = np.diag(r)\n",
    "    return D"
   ]
  },
  {
   "cell_type": "code",
   "execution_count": 220,
   "id": "8f140b7d",
   "metadata": {},
   "outputs": [],
   "source": [
    "D = create_D_matrix(r)"
   ]
  },
  {
   "cell_type": "code",
   "execution_count": 221,
   "id": "bfd76ca9",
   "metadata": {},
   "outputs": [
    {
     "data": {
      "text/plain": [
       "array([[2, 0, 0, 0],\n",
       "       [0, 2, 0, 0],\n",
       "       [0, 0, 4, 0],\n",
       "       [0, 0, 0, 5]])"
      ]
     },
     "execution_count": 221,
     "metadata": {},
     "output_type": "execute_result"
    }
   ],
   "source": [
    "D"
   ]
  },
  {
   "cell_type": "code",
   "execution_count": 222,
   "id": "0dd78428",
   "metadata": {},
   "outputs": [],
   "source": [
    "def create_Q_transition_matrix(reward, dy, num_state, Q, D):\n",
    "    new_transition = int(reward / dy)\n",
    "    size_c = new_transition*num_state\n",
    "    C = np.zeros((size_c, size_c))\n",
    "    C = np.asmatrix(C)\n",
    "    size_q = len(Q)\n",
    "    size_d= len(D)\n",
    "    \n",
    "    for i in range(0, new_transition):\n",
    "        idx = i * num_state\n",
    "        if i == 0:\n",
    "            C[idx:size_q, idx:size_q] = Q\n",
    "            C[idx:size_q, idx + size_q:idx + size_d +size_d] = D/dy\n",
    "        else:\n",
    "            C[idx:size_q + idx, idx:size_q + idx] = Q\n",
    "            \n",
    "            if idx != (C.shape[0] - size_q):\n",
    "                C[idx:size_q + idx, idx+size_q:idx+size_q+size_q] = D/dy\n",
    "            \n",
    "    sum_C_diagonal = -C.sum(axis=1)\n",
    "\n",
    "    main_diagonal_values = []\n",
    "    for i in range(0, num_state):\n",
    "        tmp = 0\n",
    "        if C[i,i] < 0:\n",
    "            tmp =  sum_C_diagonal[i] + C[i,i]\n",
    "        else:\n",
    "            tmp = sum_C_diagonal[i] - C[i,i]\n",
    "        C[i,i] = tmp\n",
    "        main_diagonal_values.append(tmp)\n",
    "    \n",
    "    for i in range(num_state, size_c):\n",
    "        C[i,i] = main_diagonal_values[i % num_state]\n",
    "    \n",
    "    return C"
   ]
  },
  {
   "cell_type": "code",
   "execution_count": 223,
   "id": "13454291",
   "metadata": {},
   "outputs": [],
   "source": [
    "dy = 0.5\n",
    "reward = 3.5\n",
    "num_state = 4\n",
    "C = create_Q_transition_matrix(reward=reward, dy=dy, num_state=num_state, Q=Q, D=D)"
   ]
  },
  {
   "cell_type": "code",
   "execution_count": 224,
   "id": "4547dc97",
   "metadata": {},
   "outputs": [
    {
     "data": {
      "text/plain": [
       "28"
      ]
     },
     "execution_count": 224,
     "metadata": {},
     "output_type": "execute_result"
    }
   ],
   "source": [
    "C.shape[0]"
   ]
  },
  {
   "cell_type": "code",
   "execution_count": 225,
   "id": "9fb0dc20",
   "metadata": {},
   "outputs": [
    {
     "name": "stdout",
     "output_type": "stream",
     "text": [
      "[[ -7.   1.   0.   2.   4.   0.   0.   0.   0.   0.   0.   0.   0.   0.\n",
      "    0.   0.   0.   0.   0.   0.   0.   0.   0.   0.   0.   0.   0.   0.]\n",
      " [  1. -14.   4.   5.   0.   4.   0.   0.   0.   0.   0.   0.   0.   0.\n",
      "    0.   0.   0.   0.   0.   0.   0.   0.   0.   0.   0.   0.   0.   0.]\n",
      " [  1.   2. -12.   1.   0.   0.   8.   0.   0.   0.   0.   0.   0.   0.\n",
      "    0.   0.   0.   0.   0.   0.   0.   0.   0.   0.   0.   0.   0.   0.]\n",
      " [  9.   2.   3. -24.   0.   0.   0.  10.   0.   0.   0.   0.   0.   0.\n",
      "    0.   0.   0.   0.   0.   0.   0.   0.   0.   0.   0.   0.   0.   0.]\n",
      " [  0.   0.   0.   0.  -7.   1.   0.   2.   4.   0.   0.   0.   0.   0.\n",
      "    0.   0.   0.   0.   0.   0.   0.   0.   0.   0.   0.   0.   0.   0.]\n",
      " [  0.   0.   0.   0.   1. -14.   4.   5.   0.   4.   0.   0.   0.   0.\n",
      "    0.   0.   0.   0.   0.   0.   0.   0.   0.   0.   0.   0.   0.   0.]\n",
      " [  0.   0.   0.   0.   1.   2. -12.   1.   0.   0.   8.   0.   0.   0.\n",
      "    0.   0.   0.   0.   0.   0.   0.   0.   0.   0.   0.   0.   0.   0.]\n",
      " [  0.   0.   0.   0.   9.   2.   3. -24.   0.   0.   0.  10.   0.   0.\n",
      "    0.   0.   0.   0.   0.   0.   0.   0.   0.   0.   0.   0.   0.   0.]\n",
      " [  0.   0.   0.   0.   0.   0.   0.   0.  -7.   1.   0.   2.   4.   0.\n",
      "    0.   0.   0.   0.   0.   0.   0.   0.   0.   0.   0.   0.   0.   0.]\n",
      " [  0.   0.   0.   0.   0.   0.   0.   0.   1. -14.   4.   5.   0.   4.\n",
      "    0.   0.   0.   0.   0.   0.   0.   0.   0.   0.   0.   0.   0.   0.]\n",
      " [  0.   0.   0.   0.   0.   0.   0.   0.   1.   2. -12.   1.   0.   0.\n",
      "    8.   0.   0.   0.   0.   0.   0.   0.   0.   0.   0.   0.   0.   0.]\n",
      " [  0.   0.   0.   0.   0.   0.   0.   0.   9.   2.   3. -24.   0.   0.\n",
      "    0.  10.   0.   0.   0.   0.   0.   0.   0.   0.   0.   0.   0.   0.]\n",
      " [  0.   0.   0.   0.   0.   0.   0.   0.   0.   0.   0.   0.  -7.   1.\n",
      "    0.   2.   4.   0.   0.   0.   0.   0.   0.   0.   0.   0.   0.   0.]\n",
      " [  0.   0.   0.   0.   0.   0.   0.   0.   0.   0.   0.   0.   1. -14.\n",
      "    4.   5.   0.   4.   0.   0.   0.   0.   0.   0.   0.   0.   0.   0.]\n",
      " [  0.   0.   0.   0.   0.   0.   0.   0.   0.   0.   0.   0.   1.   2.\n",
      "  -12.   1.   0.   0.   8.   0.   0.   0.   0.   0.   0.   0.   0.   0.]\n",
      " [  0.   0.   0.   0.   0.   0.   0.   0.   0.   0.   0.   0.   9.   2.\n",
      "    3. -24.   0.   0.   0.  10.   0.   0.   0.   0.   0.   0.   0.   0.]\n",
      " [  0.   0.   0.   0.   0.   0.   0.   0.   0.   0.   0.   0.   0.   0.\n",
      "    0.   0.  -7.   1.   0.   2.   4.   0.   0.   0.   0.   0.   0.   0.]\n",
      " [  0.   0.   0.   0.   0.   0.   0.   0.   0.   0.   0.   0.   0.   0.\n",
      "    0.   0.   1. -14.   4.   5.   0.   4.   0.   0.   0.   0.   0.   0.]\n",
      " [  0.   0.   0.   0.   0.   0.   0.   0.   0.   0.   0.   0.   0.   0.\n",
      "    0.   0.   1.   2. -12.   1.   0.   0.   8.   0.   0.   0.   0.   0.]\n",
      " [  0.   0.   0.   0.   0.   0.   0.   0.   0.   0.   0.   0.   0.   0.\n",
      "    0.   0.   9.   2.   3. -24.   0.   0.   0.  10.   0.   0.   0.   0.]\n",
      " [  0.   0.   0.   0.   0.   0.   0.   0.   0.   0.   0.   0.   0.   0.\n",
      "    0.   0.   0.   0.   0.   0.  -7.   1.   0.   2.   4.   0.   0.   0.]\n",
      " [  0.   0.   0.   0.   0.   0.   0.   0.   0.   0.   0.   0.   0.   0.\n",
      "    0.   0.   0.   0.   0.   0.   1. -14.   4.   5.   0.   4.   0.   0.]\n",
      " [  0.   0.   0.   0.   0.   0.   0.   0.   0.   0.   0.   0.   0.   0.\n",
      "    0.   0.   0.   0.   0.   0.   1.   2. -12.   1.   0.   0.   8.   0.]\n",
      " [  0.   0.   0.   0.   0.   0.   0.   0.   0.   0.   0.   0.   0.   0.\n",
      "    0.   0.   0.   0.   0.   0.   9.   2.   3. -24.   0.   0.   0.  10.]\n",
      " [  0.   0.   0.   0.   0.   0.   0.   0.   0.   0.   0.   0.   0.   0.\n",
      "    0.   0.   0.   0.   0.   0.   0.   0.   0.   0.  -7.   1.   0.   2.]\n",
      " [  0.   0.   0.   0.   0.   0.   0.   0.   0.   0.   0.   0.   0.   0.\n",
      "    0.   0.   0.   0.   0.   0.   0.   0.   0.   0.   1. -14.   4.   5.]\n",
      " [  0.   0.   0.   0.   0.   0.   0.   0.   0.   0.   0.   0.   0.   0.\n",
      "    0.   0.   0.   0.   0.   0.   0.   0.   0.   0.   1.   2. -12.   1.]\n",
      " [  0.   0.   0.   0.   0.   0.   0.   0.   0.   0.   0.   0.   0.   0.\n",
      "    0.   0.   0.   0.   0.   0.   0.   0.   0.   0.   9.   2.   3. -24.]]\n"
     ]
    }
   ],
   "source": [
    "with fullprint():\n",
    "    print(C)"
   ]
  },
  {
   "cell_type": "code",
   "execution_count": 226,
   "id": "ab81a4ba",
   "metadata": {},
   "outputs": [],
   "source": [
    "from tempfile import TemporaryFile\n",
    "outfile = TemporaryFile()"
   ]
  },
  {
   "cell_type": "code",
   "execution_count": 227,
   "id": "d26d100e",
   "metadata": {},
   "outputs": [],
   "source": [
    "s = np.savetxt('test.out', C, delimiter=',')"
   ]
  },
  {
   "cell_type": "code",
   "execution_count": 228,
   "id": "e4420a8c",
   "metadata": {},
   "outputs": [],
   "source": [
    "D = np.asmatrix(D)"
   ]
  },
  {
   "cell_type": "code",
   "execution_count": 229,
   "id": "5576389c",
   "metadata": {},
   "outputs": [],
   "source": [
    "s"
   ]
  },
  {
   "cell_type": "code",
   "execution_count": 231,
   "id": "5dd538ea",
   "metadata": {},
   "outputs": [
    {
     "data": {
      "text/plain": [
       "matrix([[2, 0, 0, 0],\n",
       "        [0, 2, 0, 0],\n",
       "        [0, 0, 4, 0],\n",
       "        [0, 0, 0, 5]])"
      ]
     },
     "execution_count": 231,
     "metadata": {},
     "output_type": "execute_result"
    }
   ],
   "source": [
    "D"
   ]
  },
  {
   "cell_type": "code",
   "execution_count": 232,
   "id": "fa7eb236",
   "metadata": {},
   "outputs": [],
   "source": [
    "D[0:4,0:4] = Q"
   ]
  },
  {
   "cell_type": "code",
   "execution_count": 233,
   "id": "acf550ed",
   "metadata": {},
   "outputs": [
    {
     "data": {
      "text/plain": [
       "array([[ -3,   1,   0,   2],\n",
       "       [  1, -10,   4,   5],\n",
       "       [  1,   2,  -4,   1],\n",
       "       [  9,   2,   3, -14]])"
      ]
     },
     "execution_count": 233,
     "metadata": {},
     "output_type": "execute_result"
    }
   ],
   "source": [
    "Q"
   ]
  },
  {
   "cell_type": "code",
   "execution_count": 234,
   "id": "38313598",
   "metadata": {},
   "outputs": [
    {
     "data": {
      "text/plain": [
       "matrix([[ -3,   1,   0,   2],\n",
       "        [  1, -10,   4,   5],\n",
       "        [  1,   2,  -4,   1],\n",
       "        [  9,   2,   3, -14]])"
      ]
     },
     "execution_count": 234,
     "metadata": {},
     "output_type": "execute_result"
    }
   ],
   "source": [
    "D"
   ]
  },
  {
   "cell_type": "code",
   "execution_count": 235,
   "id": "9c782f1b",
   "metadata": {},
   "outputs": [],
   "source": [
    "class fullprint:\n",
    "    'context manager for printing full numpy arrays'\n",
    "\n",
    "    def __init__(self, **kwargs):\n",
    "        kwargs.setdefault('threshold', np.inf)\n",
    "        self.opt = kwargs\n",
    "\n",
    "    def __enter__(self):\n",
    "        self._opt = np.get_printoptions()\n",
    "        np.set_printoptions(**self.opt)\n",
    "\n",
    "    def __exit__(self, type, value, traceback):\n",
    "        np.set_printoptions(**self._opt)"
   ]
  },
  {
   "cell_type": "code",
   "execution_count": null,
   "id": "e9b96c01",
   "metadata": {},
   "outputs": [],
   "source": []
  },
  {
   "cell_type": "code",
   "execution_count": 236,
   "id": "74080653",
   "metadata": {},
   "outputs": [],
   "source": [
    "from scipy.sparse import csr_matrix\n",
    "def sparse(matrix):\n",
    "    return csr_matrix(matrix)"
   ]
  },
  {
   "cell_type": "code",
   "execution_count": 237,
   "id": "1302af84",
   "metadata": {},
   "outputs": [],
   "source": [
    "C_sp = sparse(C)"
   ]
  },
  {
   "cell_type": "code",
   "execution_count": 238,
   "id": "f431d105",
   "metadata": {},
   "outputs": [
    {
     "data": {
      "text/plain": [
       "matrix([[ -7.,   1.,   0.,   2.,   4.,   0.,   0.,   0.,   0.,   0.,\n",
       "           0.,   0.,   0.,   0.,   0.,   0.,   0.,   0.,   0.,   0.,\n",
       "           0.,   0.,   0.,   0.,   0.,   0.,   0.,   0.],\n",
       "        [  1., -14.,   4.,   5.,   0.,   4.,   0.,   0.,   0.,   0.,\n",
       "           0.,   0.,   0.,   0.,   0.,   0.,   0.,   0.,   0.,   0.,\n",
       "           0.,   0.,   0.,   0.,   0.,   0.,   0.,   0.],\n",
       "        [  1.,   2., -12.,   1.,   0.,   0.,   8.,   0.,   0.,   0.,\n",
       "           0.,   0.,   0.,   0.,   0.,   0.,   0.,   0.,   0.,   0.,\n",
       "           0.,   0.,   0.,   0.,   0.,   0.,   0.,   0.],\n",
       "        [  9.,   2.,   3., -24.,   0.,   0.,   0.,  10.,   0.,   0.,\n",
       "           0.,   0.,   0.,   0.,   0.,   0.,   0.,   0.,   0.,   0.,\n",
       "           0.,   0.,   0.,   0.,   0.,   0.,   0.,   0.],\n",
       "        [  0.,   0.,   0.,   0.,  -7.,   1.,   0.,   2.,   4.,   0.,\n",
       "           0.,   0.,   0.,   0.,   0.,   0.,   0.,   0.,   0.,   0.,\n",
       "           0.,   0.,   0.,   0.,   0.,   0.,   0.,   0.],\n",
       "        [  0.,   0.,   0.,   0.,   1., -14.,   4.,   5.,   0.,   4.,\n",
       "           0.,   0.,   0.,   0.,   0.,   0.,   0.,   0.,   0.,   0.,\n",
       "           0.,   0.,   0.,   0.,   0.,   0.,   0.,   0.],\n",
       "        [  0.,   0.,   0.,   0.,   1.,   2., -12.,   1.,   0.,   0.,\n",
       "           8.,   0.,   0.,   0.,   0.,   0.,   0.,   0.,   0.,   0.,\n",
       "           0.,   0.,   0.,   0.,   0.,   0.,   0.,   0.],\n",
       "        [  0.,   0.,   0.,   0.,   9.,   2.,   3., -24.,   0.,   0.,\n",
       "           0.,  10.,   0.,   0.,   0.,   0.,   0.,   0.,   0.,   0.,\n",
       "           0.,   0.,   0.,   0.,   0.,   0.,   0.,   0.],\n",
       "        [  0.,   0.,   0.,   0.,   0.,   0.,   0.,   0.,  -7.,   1.,\n",
       "           0.,   2.,   4.,   0.,   0.,   0.,   0.,   0.,   0.,   0.,\n",
       "           0.,   0.,   0.,   0.,   0.,   0.,   0.,   0.],\n",
       "        [  0.,   0.,   0.,   0.,   0.,   0.,   0.,   0.,   1., -14.,\n",
       "           4.,   5.,   0.,   4.,   0.,   0.,   0.,   0.,   0.,   0.,\n",
       "           0.,   0.,   0.,   0.,   0.,   0.,   0.,   0.],\n",
       "        [  0.,   0.,   0.,   0.,   0.,   0.,   0.,   0.,   1.,   2.,\n",
       "         -12.,   1.,   0.,   0.,   8.,   0.,   0.,   0.,   0.,   0.,\n",
       "           0.,   0.,   0.,   0.,   0.,   0.,   0.,   0.],\n",
       "        [  0.,   0.,   0.,   0.,   0.,   0.,   0.,   0.,   9.,   2.,\n",
       "           3., -24.,   0.,   0.,   0.,  10.,   0.,   0.,   0.,   0.,\n",
       "           0.,   0.,   0.,   0.,   0.,   0.,   0.,   0.],\n",
       "        [  0.,   0.,   0.,   0.,   0.,   0.,   0.,   0.,   0.,   0.,\n",
       "           0.,   0.,  -7.,   1.,   0.,   2.,   4.,   0.,   0.,   0.,\n",
       "           0.,   0.,   0.,   0.,   0.,   0.,   0.,   0.],\n",
       "        [  0.,   0.,   0.,   0.,   0.,   0.,   0.,   0.,   0.,   0.,\n",
       "           0.,   0.,   1., -14.,   4.,   5.,   0.,   4.,   0.,   0.,\n",
       "           0.,   0.,   0.,   0.,   0.,   0.,   0.,   0.],\n",
       "        [  0.,   0.,   0.,   0.,   0.,   0.,   0.,   0.,   0.,   0.,\n",
       "           0.,   0.,   1.,   2., -12.,   1.,   0.,   0.,   8.,   0.,\n",
       "           0.,   0.,   0.,   0.,   0.,   0.,   0.,   0.],\n",
       "        [  0.,   0.,   0.,   0.,   0.,   0.,   0.,   0.,   0.,   0.,\n",
       "           0.,   0.,   9.,   2.,   3., -24.,   0.,   0.,   0.,  10.,\n",
       "           0.,   0.,   0.,   0.,   0.,   0.,   0.,   0.],\n",
       "        [  0.,   0.,   0.,   0.,   0.,   0.,   0.,   0.,   0.,   0.,\n",
       "           0.,   0.,   0.,   0.,   0.,   0.,  -7.,   1.,   0.,   2.,\n",
       "           4.,   0.,   0.,   0.,   0.,   0.,   0.,   0.],\n",
       "        [  0.,   0.,   0.,   0.,   0.,   0.,   0.,   0.,   0.,   0.,\n",
       "           0.,   0.,   0.,   0.,   0.,   0.,   1., -14.,   4.,   5.,\n",
       "           0.,   4.,   0.,   0.,   0.,   0.,   0.,   0.],\n",
       "        [  0.,   0.,   0.,   0.,   0.,   0.,   0.,   0.,   0.,   0.,\n",
       "           0.,   0.,   0.,   0.,   0.,   0.,   1.,   2., -12.,   1.,\n",
       "           0.,   0.,   8.,   0.,   0.,   0.,   0.,   0.],\n",
       "        [  0.,   0.,   0.,   0.,   0.,   0.,   0.,   0.,   0.,   0.,\n",
       "           0.,   0.,   0.,   0.,   0.,   0.,   9.,   2.,   3., -24.,\n",
       "           0.,   0.,   0.,  10.,   0.,   0.,   0.,   0.],\n",
       "        [  0.,   0.,   0.,   0.,   0.,   0.,   0.,   0.,   0.,   0.,\n",
       "           0.,   0.,   0.,   0.,   0.,   0.,   0.,   0.,   0.,   0.,\n",
       "          -7.,   1.,   0.,   2.,   4.,   0.,   0.,   0.],\n",
       "        [  0.,   0.,   0.,   0.,   0.,   0.,   0.,   0.,   0.,   0.,\n",
       "           0.,   0.,   0.,   0.,   0.,   0.,   0.,   0.,   0.,   0.,\n",
       "           1., -14.,   4.,   5.,   0.,   4.,   0.,   0.],\n",
       "        [  0.,   0.,   0.,   0.,   0.,   0.,   0.,   0.,   0.,   0.,\n",
       "           0.,   0.,   0.,   0.,   0.,   0.,   0.,   0.,   0.,   0.,\n",
       "           1.,   2., -12.,   1.,   0.,   0.,   8.,   0.],\n",
       "        [  0.,   0.,   0.,   0.,   0.,   0.,   0.,   0.,   0.,   0.,\n",
       "           0.,   0.,   0.,   0.,   0.,   0.,   0.,   0.,   0.,   0.,\n",
       "           9.,   2.,   3., -24.,   0.,   0.,   0.,  10.],\n",
       "        [  0.,   0.,   0.,   0.,   0.,   0.,   0.,   0.,   0.,   0.,\n",
       "           0.,   0.,   0.,   0.,   0.,   0.,   0.,   0.,   0.,   0.,\n",
       "           0.,   0.,   0.,   0.,  -7.,   1.,   0.,   2.],\n",
       "        [  0.,   0.,   0.,   0.,   0.,   0.,   0.,   0.,   0.,   0.,\n",
       "           0.,   0.,   0.,   0.,   0.,   0.,   0.,   0.,   0.,   0.,\n",
       "           0.,   0.,   0.,   0.,   1., -14.,   4.,   5.],\n",
       "        [  0.,   0.,   0.,   0.,   0.,   0.,   0.,   0.,   0.,   0.,\n",
       "           0.,   0.,   0.,   0.,   0.,   0.,   0.,   0.,   0.,   0.,\n",
       "           0.,   0.,   0.,   0.,   1.,   2., -12.,   1.],\n",
       "        [  0.,   0.,   0.,   0.,   0.,   0.,   0.,   0.,   0.,   0.,\n",
       "           0.,   0.,   0.,   0.,   0.,   0.,   0.,   0.,   0.,   0.,\n",
       "           0.,   0.,   0.,   0.,   9.,   2.,   3., -24.]])"
      ]
     },
     "execution_count": 238,
     "metadata": {},
     "output_type": "execute_result"
    }
   ],
   "source": [
    "C"
   ]
  },
  {
   "cell_type": "code",
   "execution_count": 239,
   "id": "2e5f7435",
   "metadata": {},
   "outputs": [],
   "source": [
    "CC=C_sp*0.2"
   ]
  },
  {
   "cell_type": "code",
   "execution_count": 240,
   "id": "1efa71c7",
   "metadata": {},
   "outputs": [
    {
     "name": "stdout",
     "output_type": "stream",
     "text": [
      "  (0, 0)\t-1.4000000000000001\n",
      "  (0, 1)\t0.2\n",
      "  (0, 3)\t0.4\n",
      "  (0, 4)\t0.8\n",
      "  (1, 0)\t0.2\n",
      "  (1, 1)\t-2.8000000000000003\n",
      "  (1, 2)\t0.8\n",
      "  (1, 3)\t1.0\n",
      "  (1, 5)\t0.8\n",
      "  (2, 0)\t0.2\n",
      "  (2, 1)\t0.4\n",
      "  (2, 2)\t-2.4000000000000004\n",
      "  (2, 3)\t0.2\n",
      "  (2, 6)\t1.6\n",
      "  (3, 0)\t1.8\n",
      "  (3, 1)\t0.4\n",
      "  (3, 2)\t0.6000000000000001\n",
      "  (3, 3)\t-4.800000000000001\n",
      "  (3, 7)\t2.0\n",
      "  (4, 4)\t-1.4000000000000001\n",
      "  (4, 5)\t0.2\n",
      "  (4, 7)\t0.4\n",
      "  (4, 8)\t0.8\n",
      "  (5, 4)\t0.2\n",
      "  (5, 5)\t-2.8000000000000003\n",
      "  :\t:\n",
      "  (22, 20)\t0.2\n",
      "  (22, 21)\t0.4\n",
      "  (22, 22)\t-2.4000000000000004\n",
      "  (22, 23)\t0.2\n",
      "  (22, 26)\t1.6\n",
      "  (23, 20)\t1.8\n",
      "  (23, 21)\t0.4\n",
      "  (23, 22)\t0.6000000000000001\n",
      "  (23, 23)\t-4.800000000000001\n",
      "  (23, 27)\t2.0\n",
      "  (24, 24)\t-1.4000000000000001\n",
      "  (24, 25)\t0.2\n",
      "  (24, 27)\t0.4\n",
      "  (25, 24)\t0.2\n",
      "  (25, 25)\t-2.8000000000000003\n",
      "  (25, 26)\t0.8\n",
      "  (25, 27)\t1.0\n",
      "  (26, 24)\t0.2\n",
      "  (26, 25)\t0.4\n",
      "  (26, 26)\t-2.4000000000000004\n",
      "  (26, 27)\t0.2\n",
      "  (27, 24)\t1.8\n",
      "  (27, 25)\t0.4\n",
      "  (27, 26)\t0.6000000000000001\n",
      "  (27, 27)\t-4.800000000000001\n"
     ]
    }
   ],
   "source": [
    "print(CC)"
   ]
  },
  {
   "cell_type": "code",
   "execution_count": null,
   "id": "126c0d07",
   "metadata": {},
   "outputs": [],
   "source": []
  },
  {
   "cell_type": "code",
   "execution_count": null,
   "id": "456218a7",
   "metadata": {},
   "outputs": [],
   "source": []
  }
 ],
 "metadata": {
  "kernelspec": {
   "display_name": "Python 3 (ipykernel)",
   "language": "python",
   "name": "python3"
  },
  "language_info": {
   "codemirror_mode": {
    "name": "ipython",
    "version": 3
   },
   "file_extension": ".py",
   "mimetype": "text/x-python",
   "name": "python",
   "nbconvert_exporter": "python",
   "pygments_lexer": "ipython3",
   "version": "3.8.10"
  }
 },
 "nbformat": 4,
 "nbformat_minor": 5
}
